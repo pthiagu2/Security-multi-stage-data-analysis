{
 "cells": [
  {
   "cell_type": "code",
   "execution_count": 1,
   "metadata": {},
   "outputs": [],
   "source": [
    "import opengm\n",
    "import numpy as np\n",
    "from operator import itemgetter\n",
    "\n",
    "import sys\n",
    "import logging\n",
    "logging.basicConfig(level=logging.DEBUG,\n",
    "                    format='[%(levelname)s] (%(threadName)-10s) %(message)s',\n",
    "                    stream=sys.stdout \n",
    ")\n",
    "\n",
    "class FactorGraph(object):\n",
    "    \n",
    "    def __init__(self, variables, operator='multiplier'):\n",
    "        \n",
    "        assert isinstance(variables, dict)\n",
    "        \n",
    "        self.var_names = [vn for vn,_ in variables.items()]\n",
    "        dimensionality = [d for _,d in variables.items()]\n",
    "        \n",
    "        self.gm = opengm.graphicalModel(dimensionality, \n",
    "                                        operator=operator)\n",
    "        \n",
    "        self.inference = None\n",
    "        \n",
    "    \n",
    "    def add_factor_function(self, variables, probabilities):\n",
    "        \n",
    "        if not isinstance(probabilities, np.ndarray):\n",
    "            probabilities = np.array(probabilities)\n",
    "        \n",
    "        if not isinstance(variables, list):\n",
    "            variables = [variables]\n",
    "        \n",
    "        variables = [self.var_names.index(v) for v in variables]\n",
    "        \n",
    "        self.gm.addFactor(self.gm.addFunction(probabilities),\n",
    "                          variables)\n",
    "        \n",
    "        self.inference = None\n",
    "    \n",
    "    def infer(self):\n",
    "        self.inference = opengm.inference.BeliefPropagation(self.gm, accumulator='maximizer')\n",
    "        self.inference.infer()\n",
    "        \n",
    "    def get_argmax(self):\n",
    "        \n",
    "        if not self.inference:\n",
    "            self.infer()\n",
    "            \n",
    "        argmax = self.inference.arg()\n",
    "        \n",
    "        return dict((vn, argmax[i]) for i, vn in enumerate(self.var_names))\n",
    "    \n",
    "    def get_marginals(self, marginal_vars):\n",
    "        \n",
    "        if not isinstance(marginal_vars, list):\n",
    "            marginal_vars = [marginal_vars]\n",
    "        \n",
    "        if not self.inference:\n",
    "            self.infer()\n",
    "        \n",
    "        marginal_probabilities =  self.inference.marginals(range(len(self.var_names)))\n",
    "        marginals_ret = {}\n",
    "        for v in marginal_vars:\n",
    "            i = self.var_names.index(v)\n",
    "            marginals_v = marginal_probabilities[i]\n",
    "            marginals_v /= np.sum(marginals_v)\n",
    "            marginals_ret[v] = marginals_v\n",
    "            \n",
    "        return marginals_ret\n",
    "    \n",
    "\n"
   ]
  },
  {
   "cell_type": "markdown",
   "metadata": {},
   "source": [
    "### Task 2 Solution"
   ]
  },
  {
   "cell_type": "code",
   "execution_count": 2,
   "metadata": {},
   "outputs": [
    {
     "name": "stdout",
     "output_type": "stream",
     "text": [
      "{'S1': array([ 0.7826087,  0.2173913])}\n",
      "{'S1': 0, 'E1': 1}\n"
     ]
    }
   ],
   "source": [
    "\n",
    "m = FactorGraph({'S1':2, 'E1':2})\n",
    "m.add_factor_function('S1', [0.9, 0.1])           # f(S1)\n",
    "m.add_factor_function(['S1', 'E1'], [[0, 0.2],    # g(S1,E1)\n",
    "                                     [0, 0.5]])\n",
    "m.infer()\n",
    "\n",
    "argmax = m.get_argmax()\n",
    "\n",
    "marginal_S1 = m.get_marginals('S1')\n",
    "\n",
    "print(marginal_S1)\n",
    "print(argmax)"
   ]
  },
  {
   "cell_type": "markdown",
   "metadata": {},
   "source": [
    "### Task 3"
   ]
  },
  {
   "cell_type": "code",
   "execution_count": 3,
   "metadata": {},
   "outputs": [],
   "source": [
    "STAGE_MAP = {\n",
    "    'benign': 1,\n",
    "    'discovery': 2,\n",
    "    'access': 3,\n",
    "    'lateral_movement': 4,\n",
    "    'privilege_escalation': 5,\n",
    "    'persistence': 6,\n",
    "    'defense_evasion': 7,\n",
    "    'collection': 8,\n",
    "    'exfiltration': 9,\n",
    "    'command_control': 10,\n",
    "    'execution': 11\n",
    "}\n",
    "\n",
    "EVENT_MAP = {\n",
    "    'scan': [1],\n",
    "    'login': [2],\n",
    "    'sensitive_uri': [3,4,5],\n",
    "    'new_kernel_module': [6],\n",
    "    'dns_tunneling': [7,8,9]\n",
    "}\n",
    "\n",
    "\n",
    "ATTACKS = ['benign', 'discovery', 'access', 'lateral_movement', 'privilege_escalation', 'persistence', 'defense_evasion', 'collection', 'exfiltration', 'command_control', 'execution']\n",
    "\n",
    "\n",
    "ACTIONS = {\n",
    "    # each value in an actions' vector corresponds to an attack stage\n",
    "    'NO-OP':   [1.,   0.61, 0.69, 0.09, 0.2 , 0. ,  0.,   0.,   0. ,  0. ,  0.  ],\n",
    "    'MONITOR': [0.  , 0.39, 0.31 ,0.84, 0.63, 0.7,  0.07 ,0.1 , 0. ,  0. ,  0.  ],\n",
    "    'STOP':    [0.  , 0.,   0.  , 0.07, 0.17, 0.3,  0.93 ,0.9 , 1. ,  1. ,  1.  ]\n",
    "}\n",
    "\n",
    "\n",
    "def get_prob(stages, p, q):\n",
    "    assert len(p) == len(q) == len(stages)\n",
    "    prob = np.zeros(11)\n",
    "    for i in range(len(p)):\n",
    "        stage_idx = STAGE_MAP[stages[i]] - 1\n",
    "        prob[stage_idx] = q[i] * (1 - p[i])\n",
    "    return prob\n",
    "    \n",
    "def print_state_belief(mValues):\n",
    "    mValues = list(mValues)\n",
    "    print(\"Beliefs\", list(zip(ATTACKS,mValues[0:len(ATTACKS)])))"
   ]
  },
  {
   "cell_type": "code",
   "execution_count": 4,
   "metadata": {},
   "outputs": [
    {
     "name": "stdout",
     "output_type": "stream",
     "text": [
      "{'E1': 1}\n",
      "{'E1': array([ 0.3557047,  0.6442953,  0.       ,  0.       ,  0.       ,\n",
      "        0.       ,  0.       ,  0.       ,  0.       ,  0.       ,  0.       ])}\n",
      "[('STOP', 0.0), ('MONITOR', 0.39), ('NO-OP', 0.61)]\n",
      "NO-OP\n"
     ]
    }
   ],
   "source": [
    "\"\"\"\n",
    "As an example, we provide the Factor Graph at t=1\n",
    "Your task is to come up with a general Factor Graph model \n",
    "that is parametrized for some general time t\n",
    "\"\"\"\n",
    "# our sequence of events is simply ['scan']\n",
    "m = FactorGraph({'E1': 11})\n",
    "m.add_factor_function('E1', get_prob(['discovery', 'benign'], [0.04, 0.47], [0.5, 0.5]))\n",
    "\n",
    "m.infer()\n",
    "\n",
    "argmax = m.get_argmax()\n",
    "marginal_E1 = m.get_marginals('E1')\n",
    "\n",
    "print(argmax)\n",
    "print(marginal_E1)\n",
    "\n",
    "# argmax(marginal_E1) = 1, which represents the discovery stage (2nd position in array)\n",
    "\n",
    "# to determine the action to be taken, we look at the probability values\n",
    "# for the discovery stage for all posible actions, and pick the action\n",
    "# with the maximum probability\n",
    "idx = argmax['E1']\n",
    "action_probabilities = [(k, stage_list[idx]) for k, stage_list in ACTIONS.items()]\n",
    "print(action_probabilities)\n",
    "max_action, max_probability = max(action_probabilities, key=itemgetter(1))\n",
    "print(max_action)"
   ]
  },
  {
   "cell_type": "code",
   "execution_count": 5,
   "metadata": {},
   "outputs": [],
   "source": [
    "# HINT: Since you only require the argmax of the ACTION dictionary at each stage,\n",
    "#       convert the dictionary to a list of actions indexed by stage instead"
   ]
  },
  {
   "cell_type": "code",
   "execution_count": null,
   "metadata": {},
   "outputs": [],
   "source": []
  },
  {
   "cell_type": "code",
   "execution_count": 6,
   "metadata": {},
   "outputs": [],
   "source": [
    "\"\"\"\n",
    "Build your general model below.\n",
    "Run your inference for t=1 through t=9\n",
    "\"\"\"\n",
    "full_sequence = ['scan', 'login', 'sensitive_uri', 'sensitive_uri', 'sensitive_uri',\n",
    "                 'new_kernel_module', 'dns_tunneling', 'dns_tunneling', 'dns_tunneling']\n",
    "\n"
   ]
  },
  {
   "cell_type": "code",
   "execution_count": 7,
   "metadata": {},
   "outputs": [
    {
     "name": "stdout",
     "output_type": "stream",
     "text": [
      "('Beliefs', [('benign', 0.35570469798657717), ('discovery', 0.64429530201342278), ('access', 0.0), ('lateral_movement', 0.0), ('privilege_escalation', 0.0), ('persistence', 0.0), ('defense_evasion', 0.0), ('collection', 0.0), ('exfiltration', 0.0), ('command_control', 0.0), ('execution', 0.0)])\n",
      "Attack stage is discovery\n",
      "('Action Probabilities', [('STOP', 0.0), ('MONITOR', 0.39), ('NO-OP', 0.61)])\n",
      "Selected Action is NO-OP\n"
     ]
    }
   ],
   "source": [
    "#We provide the Factor Graph at t=1 for Scan\n",
    "m = FactorGraph({'S1':11})\n",
    "m.add_factor_function('S1',get_prob(['discovery','benign'],[0.04,0.47],[0.5,0.5]))\n",
    "m.infer()\n",
    "\n",
    "# Calculating marginal probabilities\n",
    "marginal_S1 = m.get_marginals('S1')\n",
    "print_state_belief(marginal_S1['S1'])\n",
    "\n",
    "#Calculating maximum of the probabilities\n",
    "argmax = m.get_argmax()\n",
    "print('Attack stage is %s' % ATTACKS[argmax['S1']])\n",
    "\n",
    "idx = argmax['S1']\n",
    "action_probabilities = [(k, stage_list[idx]) for k, stage_list in ACTIONS.items()]\n",
    "print(\"Action Probabilities\", action_probabilities)\n",
    "\n",
    "max_action, max_probability = max(action_probabilities, key=itemgetter(1))\n",
    "print(\"Selected Action is %s\" % max_action)"
   ]
  },
  {
   "cell_type": "code",
   "execution_count": 8,
   "metadata": {},
   "outputs": [
    {
     "name": "stdout",
     "output_type": "stream",
     "text": [
      "('Beliefs', [('benign', 1.0), ('discovery', 0.0), ('access', 0.0), ('lateral_movement', 0.0), ('privilege_escalation', 0.0), ('persistence', 0.0), ('defense_evasion', 0.0), ('collection', 0.0), ('exfiltration', 0.0), ('command_control', 0.0), ('execution', 0.0)])\n",
      "Attack stage is benign\n",
      "('Action Probabilities', [('STOP', 0.0), ('MONITOR', 0.0), ('NO-OP', 1.0)])\n",
      "Selected Action is NO-OP\n"
     ]
    }
   ],
   "source": [
    "#We provide the Factor Graph at t = 2 for Login\n",
    "m = FactorGraph({'S1':11,'S2':11})\n",
    "m.add_factor_function('S1',get_prob(['discovery','benign'],[0.04,0.47],[0.5,0.5]))\n",
    "m.add_factor_function('S2',get_prob(['benign'],[0.01],[0.5]))\n",
    "m.infer()\n",
    "marginal_S2 = m.get_marginals('S2')\n",
    "print_state_belief(marginal_S2['S2'])\n",
    "\n",
    "argmax = m.get_argmax()\n",
    "print('Attack stage is %s' % ATTACKS[argmax['S2']])\n",
    "\n",
    "idx = argmax['S2']\n",
    "action_probabilities = [(k, stage_list[idx]) for k, stage_list in ACTIONS.items()]\n",
    "print(\"Action Probabilities\", action_probabilities)\n",
    "\n",
    "max_action, max_probability = max(action_probabilities, key=itemgetter(1))\n",
    "print(\"Selected Action is %s\" % max_action)"
   ]
  },
  {
   "cell_type": "code",
   "execution_count": 9,
   "metadata": {},
   "outputs": [
    {
     "name": "stdout",
     "output_type": "stream",
     "text": [
      "('Beliefs', [('benign', 0.5), ('discovery', 0.0), ('access', 0.0), ('lateral_movement', 0.0), ('privilege_escalation', 0.5), ('persistence', 0.0), ('defense_evasion', 0.0), ('collection', 0.0), ('exfiltration', 0.0), ('command_control', 0.0), ('execution', 0.0)])\n",
      "Attack stage is benign\n",
      "('Action Probabilities', [('STOP', 0.0), ('MONITOR', 0.0), ('NO-OP', 1.0)])\n",
      "Selected Action is NO-OP\n"
     ]
    }
   ],
   "source": [
    "#We provide the Factor Graph at t = 3 for  Sensitive URI\n",
    "m = FactorGraph({'S1':11,'S2':11,'S3':11})\n",
    "m.add_factor_function('S1',get_prob(['discovery','benign'],[0.04,0.47],[0.5,0.5]))\n",
    "m.add_factor_function('S2',get_prob(['benign'],[0.01],[0.5]))\n",
    "m.add_factor_function('S3',get_prob(['privilege_escalation','benign'],[0.02,0.02],[0.1,0.1]))\n",
    "m.infer()\n",
    "marginal_S3 = m.get_marginals('S3')\n",
    "print_state_belief(marginal_S3['S3'])\n",
    "\n",
    "argmax = m.get_argmax()\n",
    "print('Attack stage is %s' % ATTACKS[argmax['S3']])\n",
    "\n",
    "idx = argmax['S3']\n",
    "action_probabilities = [(k, stage_list[idx]) for k, stage_list in ACTIONS.items()]\n",
    "print(\"Action Probabilities\", action_probabilities)\n",
    "\n",
    "max_action, max_probability = max(action_probabilities, key=itemgetter(1))\n",
    "print(\"Selected Action is %s\" % max_action)"
   ]
  },
  {
   "cell_type": "code",
   "execution_count": 10,
   "metadata": {},
   "outputs": [
    {
     "name": "stdout",
     "output_type": "stream",
     "text": [
      "('Beliefs', [('benign', 0.5), ('discovery', 0.0), ('access', 0.0), ('lateral_movement', 0.0), ('privilege_escalation', 0.5), ('persistence', 0.0), ('defense_evasion', 0.0), ('collection', 0.0), ('exfiltration', 0.0), ('command_control', 0.0), ('execution', 0.0)])\n",
      "Attack stage is benign\n",
      "('Action Probabilities', [('STOP', 0.0), ('MONITOR', 0.0), ('NO-OP', 1.0)])\n",
      "Selected Action is NO-OP\n"
     ]
    }
   ],
   "source": [
    "#We provide the Factor Graph at t = 4 for  Sensitive URI\n",
    "m = FactorGraph({'S1':11,'S2':11,'S3':11,'S4':11})\n",
    "m.add_factor_function('S1',get_prob(['discovery','benign'],[0.04,0.47],[0.5,0.5]))\n",
    "m.add_factor_function('S2',get_prob(['benign'],[0.01],[0.5]))\n",
    "m.add_factor_function('S3',get_prob(['privilege_escalation','benign'],[0.02,0.02],[0.1,0.1]))\n",
    "m.add_factor_function('S4',get_prob(['privilege_escalation','benign'],[0.02,0.02],[0.1,0.1]))\n",
    "m.infer()\n",
    "marginal_S4 = m.get_marginals('S4')\n",
    "print_state_belief(marginal_S4['S4'])\n",
    "\n",
    "argmax = m.get_argmax()\n",
    "print('Attack stage is %s' % ATTACKS[argmax['S4']])\n",
    "\n",
    "idx = argmax['S4']\n",
    "action_probabilities = [(k, stage_list[idx]) for k, stage_list in ACTIONS.items()]\n",
    "print(\"Action Probabilities\", action_probabilities)\n",
    "\n",
    "max_action, max_probability = max(action_probabilities, key=itemgetter(1))\n",
    "print(\"Selected Action is %s\" % max_action)"
   ]
  },
  {
   "cell_type": "code",
   "execution_count": 11,
   "metadata": {},
   "outputs": [
    {
     "name": "stdout",
     "output_type": "stream",
     "text": [
      "('Beliefs', [('benign', 0.0), ('discovery', 0.0), ('access', 0.0), ('lateral_movement', 0.0), ('privilege_escalation', 1.0), ('persistence', 0.0), ('defense_evasion', 0.0), ('collection', 0.0), ('exfiltration', 0.0), ('command_control', 0.0), ('execution', 0.0)])\n",
      "Attack stage is privilege_escalation\n",
      "('Action Probabilities', [('STOP', 0.17), ('MONITOR', 0.63), ('NO-OP', 0.2)])\n",
      "Selected Action is MONITOR\n"
     ]
    }
   ],
   "source": [
    "#We provide the Factor Graph at t = 5 for Sensitive Uri\n",
    "m = FactorGraph({'S1':11,'S2':11,'S3':11,'S4':11,'S5':11})\n",
    "m.add_factor_function('S1',get_prob(['discovery','benign'],[0.04,0.47],[0.5,0.5]))\n",
    "m.add_factor_function('S2',get_prob(['benign'],[0.01],[0.5]))\n",
    "m.add_factor_function('S3',get_prob(['privilege_escalation','benign'],[0.02,0.02],[0.1,0.1]))\n",
    "m.add_factor_function('S4',get_prob(['privilege_escalation','benign'],[0.02,0.02],[0.1,0.1]))\n",
    "m.add_factor_function('S5',get_prob(['privilege_escalation','benign'],[0.02,0.02],[0.1,0.1]))\n",
    "# Need to add factor function r as privelage_escalation is repeated thrice \n",
    "# and according to the table, we need to add corresponding factor function r\n",
    "m.add_factor_function('S5',get_prob(['privilege_escalation'],[0.05],[0.15]))\n",
    "m.infer()\n",
    "marginal_S5 = m.get_marginals('S5')\n",
    "print_state_belief(marginal_S5['S5'])\n",
    "\n",
    "argmax = m.get_argmax()\n",
    "print('Attack stage is %s' % ATTACKS[argmax['S5']])\n",
    "\n",
    "idx = argmax['S5']\n",
    "action_probabilities = [(k, stage_list[idx]) for k, stage_list in ACTIONS.items()]\n",
    "print(\"Action Probabilities\", action_probabilities)\n",
    "\n",
    "max_action, max_probability = max(action_probabilities, key=itemgetter(1))\n",
    "print(\"Selected Action is %s\" % max_action)"
   ]
  },
  {
   "cell_type": "code",
   "execution_count": 12,
   "metadata": {},
   "outputs": [
    {
     "name": "stdout",
     "output_type": "stream",
     "text": [
      "('Beliefs', [('benign', 0.0), ('discovery', 0.0), ('access', 0.0), ('lateral_movement', 0.0), ('privilege_escalation', 0.0), ('persistence', 1.0), ('defense_evasion', 0.0), ('collection', 0.0), ('exfiltration', 0.0), ('command_control', 0.0), ('execution', 0.0)])\n",
      "Attack stage is persistence\n",
      "('Action Probabilities', [('STOP', 0.3), ('MONITOR', 0.7), ('NO-OP', 0.0)])\n",
      "Selected Action is MONITOR\n"
     ]
    }
   ],
   "source": [
    "# We provide the Factor Graph at t = 6 for New Kernel Module\t\n",
    "m = FactorGraph({'S1':11,'S2':11,'S3':11,'S4':11,'S5':11,'S6':11})\n",
    "m.add_factor_function('S1',get_prob(['discovery','benign'],[0.04,0.47],[0.5,0.5]))\n",
    "m.add_factor_function('S2',get_prob(['benign'],[0.01],[0.5]))\n",
    "m.add_factor_function('S3',get_prob(['privilege_escalation','benign'],[0.02,0.02],[0.1,0.1]))\n",
    "m.add_factor_function('S4',get_prob(['privilege_escalation','benign'],[0.02,0.02],[0.1,0.1]))\n",
    "m.add_factor_function('S5',get_prob(['privilege_escalation'],[0.05],[0.15]))\n",
    "m.add_factor_function('S5',get_prob(['privilege_escalation','benign'],[0.02,0.02],[0.1,0.1]))\n",
    "# Need to add factor function c as sequence Scan->Sensitive URI->New Kernel Module is repeated thrice \n",
    "# and according to the table, we need to add corresponding factor function r\n",
    "m.add_factor_function('S6',get_prob(['persistence'],[0.006],[0.15]))\n",
    "m.add_factor_function('S6',get_prob(['persistence','benign'],[0.006,0.0425],[0.05,0.05]))\n",
    "m.infer()\n",
    "marginal_S6 = m.get_marginals('S6')\n",
    "print_state_belief(marginal_S6['S6'])\n",
    "\n",
    "argmax = m.get_argmax()\n",
    "print('Attack stage is %s' % ATTACKS[argmax['S6']])\n",
    "\n",
    "idx = argmax['S6']\n",
    "action_probabilities = [(k, stage_list[idx]) for k, stage_list in ACTIONS.items()]\n",
    "print(\"Action Probabilities\", action_probabilities)\n",
    "\n",
    "max_action, max_probability = max(action_probabilities, key=itemgetter(1))\n",
    "print(\"Selected Action is %s\" % max_action)"
   ]
  },
  {
   "cell_type": "code",
   "execution_count": 13,
   "metadata": {},
   "outputs": [
    {
     "name": "stdout",
     "output_type": "stream",
     "text": [
      "('Beliefs', [('benign', 0.48868312757201648), ('discovery', 0.0), ('access', 0.0), ('lateral_movement', 0.0), ('privilege_escalation', 0.0), ('persistence', 0.0), ('defense_evasion', 0.0), ('collection', 0.0), ('exfiltration', 0.51131687242798352), ('command_control', 0.0), ('execution', 0.0)])\n",
      "Attack stage is exfiltration\n",
      "('Action Probabilities', [('STOP', 1.0), ('MONITOR', 0.0), ('NO-OP', 0.0)])\n",
      "Selected Action is STOP\n"
     ]
    }
   ],
   "source": [
    "#We provide the Factor Graph at t = 7 for DNS Tunneling\n",
    "m = FactorGraph({'S1':11,'S2':11,'S3':11,'S4':11,'S5':11,'S6':11,'S7':11})\n",
    "m.add_factor_function('S1',get_prob(['discovery','benign'],[0.04,0.47],[0.5,0.5]))\n",
    "m.add_factor_function('S2',get_prob(['benign'],[0.01],[0.5]))\n",
    "m.add_factor_function('S3',get_prob(['privilege_escalation','benign'],[0.02,0.02],[0.1,0.1]))\n",
    "m.add_factor_function('S4',get_prob(['privilege_escalation','benign'],[0.02,0.02],[0.1,0.1]))\n",
    "m.add_factor_function('S5',get_prob(['privilege_escalation'],[0.05],[0.15]))\n",
    "m.add_factor_function('S5',get_prob(['privilege_escalation','benign'],[0.02,0.02],[0.1,0.1]))\n",
    "m.add_factor_function('S6',get_prob(['persistence'],[0.006],[0.15]))\n",
    "m.add_factor_function('S6',get_prob(['persistence','benign'],[0.006,0.0425],[0.05,0.05]))\n",
    "m.add_factor_function('S7',get_prob(['benign','exfiltration'],[0.05,0.006],[0.15,0.15]))\n",
    "m.infer()\n",
    "marginal_S7 = m.get_marginals('S7')\n",
    "print_state_belief(marginal_S7['S7'])\n",
    "\n",
    "argmax = m.get_argmax()\n",
    "print('Attack stage is %s' % ATTACKS[argmax['S7']])\n",
    "\n",
    "idx = argmax['S7']\n",
    "action_probabilities = [(k, stage_list[idx]) for k, stage_list in ACTIONS.items()]\n",
    "print(\"Action Probabilities\", action_probabilities)\n",
    "\n",
    "max_action, max_probability = max(action_probabilities, key=itemgetter(1))\n",
    "print(\"Selected Action is %s\" % max_action)"
   ]
  },
  {
   "cell_type": "code",
   "execution_count": 14,
   "metadata": {},
   "outputs": [
    {
     "name": "stdout",
     "output_type": "stream",
     "text": [
      "('Beliefs', [('benign', 0.48868312757201648), ('discovery', 0.0), ('access', 0.0), ('lateral_movement', 0.0), ('privilege_escalation', 0.0), ('persistence', 0.0), ('defense_evasion', 0.0), ('collection', 0.0), ('exfiltration', 0.51131687242798352), ('command_control', 0.0), ('execution', 0.0)])\n",
      "Attack stage is exfiltration\n",
      "('Action Probabilities', [('STOP', 1.0), ('MONITOR', 0.0), ('NO-OP', 0.0)])\n",
      "Selected Action is STOP\n"
     ]
    }
   ],
   "source": [
    "#We provide the Factor Graph at t = 8 for DNS Tunneling\n",
    "m = FactorGraph({'S1':11,'S2':11,'S3':11,'S4':11,'S5':11,'S6':11,'S7':11,'S8':11})\n",
    "m.add_factor_function('S1',get_prob(['discovery','benign'],[0.04,0.47],[0.5,0.5]))\n",
    "m.add_factor_function('S2',get_prob(['benign'],[0.01],[0.5]))\n",
    "m.add_factor_function('S3',get_prob(['privilege_escalation','benign'],[0.02,0.02],[0.1,0.1]))\n",
    "m.add_factor_function('S4',get_prob(['privilege_escalation','benign'],[0.02,0.02],[0.1,0.1]))\n",
    "m.add_factor_function('S5',get_prob(['privilege_escalation'],[0.05],[0.15]))\n",
    "m.add_factor_function('S5',get_prob(['privilege_escalation','benign'],[0.02,0.02],[0.1,0.1]))\n",
    "m.add_factor_function('S6',get_prob(['persistence'],[0.006],[0.15]))\n",
    "m.add_factor_function('S6',get_prob(['persistence','benign'],[0.006,0.0425],[0.05,0.05]))\n",
    "m.add_factor_function('S7',get_prob(['benign','exfiltration'],[0.05,0.006],[0.15,0.15]))\n",
    "m.add_factor_function('S8',get_prob(['benign','exfiltration'],[0.05,0.006],[0.15,0.15]))\n",
    "m.infer()\n",
    "marginal_S8 = m.get_marginals('S8')\n",
    "print_state_belief(marginal_S8['S8'])\n",
    "\n",
    "argmax = m.get_argmax()\n",
    "print('Attack stage is %s' % ATTACKS[argmax['S8']])\n",
    "\n",
    "idx = argmax['S8']\n",
    "action_probabilities = [(k, stage_list[idx]) for k, stage_list in ACTIONS.items()]\n",
    "print(\"Action Probabilities\", action_probabilities)\n",
    "\n",
    "max_action, max_probability = max(action_probabilities, key=itemgetter(1))\n",
    "print(\"Selected Action is %s\" % max_action)"
   ]
  },
  {
   "cell_type": "code",
   "execution_count": 15,
   "metadata": {},
   "outputs": [
    {
     "name": "stdout",
     "output_type": "stream",
     "text": [
      "('Beliefs', [('benign', 0.48868312757201648), ('discovery', 0.0), ('access', 0.0), ('lateral_movement', 0.0), ('privilege_escalation', 0.0), ('persistence', 0.0), ('defense_evasion', 0.0), ('collection', 0.0), ('exfiltration', 0.51131687242798352), ('command_control', 0.0), ('execution', 0.0)])\n",
      "Attack stage is exfiltration\n",
      "('Action Probabilities', [('STOP', 1.0), ('MONITOR', 0.0), ('NO-OP', 0.0)])\n",
      "Selected Action is STOP\n"
     ]
    }
   ],
   "source": [
    "#We provide the Factor Graph at t = 9 for DNS Tunneling\n",
    "m = FactorGraph({'S1':11,'S2':11,'S3':11,'S4':11,'S5':11,'S6':11,'S7':11,'S8':11,'S9':11})\n",
    "m.add_factor_function('S1',get_prob(['discovery','benign'],[0.04,0.47],[0.5,0.5]))\n",
    "m.add_factor_function('S2',get_prob(['benign'],[0.01],[0.5]))\n",
    "m.add_factor_function('S3',get_prob(['privilege_escalation','benign'],[0.02,0.02],[0.1,0.1]))\n",
    "m.add_factor_function('S4',get_prob(['privilege_escalation','benign'],[0.02,0.02],[0.1,0.1]))\n",
    "m.add_factor_function('S5',get_prob(['privilege_escalation'],[0.05],[0.15]))\n",
    "m.add_factor_function('S5',get_prob(['privilege_escalation','benign'],[0.02,0.02],[0.1,0.1]))\n",
    "m.add_factor_function('S6',get_prob(['persistence'],[0.006],[0.15]))\n",
    "m.add_factor_function('S6',get_prob(['persistence','benign'],[0.006,0.0425],[0.05,0.05]))\n",
    "m.add_factor_function('S7',get_prob(['benign','exfiltration'],[0.05,0.006],[0.15,0.15]))\n",
    "m.add_factor_function('S8',get_prob(['benign','exfiltration'],[0.05,0.006],[0.15,0.15]))\n",
    "m.add_factor_function('S9',get_prob(['benign','exfiltration'],[0.05,0.006],[0.15,0.15]))\n",
    "m.infer()\n",
    "marginal_S9 = m.get_marginals('S9')\n",
    "print_state_belief(marginal_S9['S9'])\n",
    "\n",
    "argmax = m.get_argmax()\n",
    "print('Attack stage is %s' % ATTACKS[argmax['S9']])\n",
    "\n",
    "idx = argmax['S9']\n",
    "action_probabilities = [(k, stage_list[idx]) for k, stage_list in ACTIONS.items()]\n",
    "print(\"Action Probabilities\", action_probabilities)\n",
    "\n",
    "max_action, max_probability = max(action_probabilities, key=itemgetter(1))\n",
    "print(\"Selected Action is %s\" % max_action)"
   ]
  },
  {
   "cell_type": "code",
   "execution_count": null,
   "metadata": {},
   "outputs": [],
   "source": []
  }
 ],
 "metadata": {
  "kernelspec": {
   "display_name": "Python 2",
   "language": "python",
   "name": "python2"
  },
  "language_info": {
   "codemirror_mode": {
    "name": "ipython",
    "version": 2
   },
   "file_extension": ".py",
   "mimetype": "text/x-python",
   "name": "python",
   "nbconvert_exporter": "python",
   "pygments_lexer": "ipython2",
   "version": "2.7.13"
  }
 },
 "nbformat": 4,
 "nbformat_minor": 2
}
